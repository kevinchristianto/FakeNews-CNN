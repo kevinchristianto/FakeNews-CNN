{
 "cells": [
  {
   "cell_type": "code",
   "execution_count": 1,
   "metadata": {},
   "outputs": [],
   "source": [
    "import json\n",
    "import os\n",
    "import numpy as np\n",
    "import pandas as pd"
   ]
  },
  {
   "cell_type": "code",
   "execution_count": 2,
   "metadata": {},
   "outputs": [],
   "source": [
    "def load_data(news_source, truthfulness):\n",
    "    temp = []\n",
    "    \n",
    "    for i in os.listdir('{}/{}/'.format(news_source, truthfulness)):\n",
    "        try:\n",
    "            with open('{}/{}/{}/news content.json'.format(news_source, truthfulness, i), 'rb') as file:\n",
    "                article = json.load(file)\n",
    "                \n",
    "            tweets = []\n",
    "            for j in os.listdir('{}/{}/{}/tweets/'.format(news_source, truthfulness, i)):\n",
    "                with open('{}/{}/{}/tweets/{}'.format(news_source, truthfulness, i, j), 'rb') as file2:\n",
    "                    tweet = json.load(file2)\n",
    "                tweets.append(tweet)\n",
    "                \n",
    "        except FileNotFoundError:\n",
    "            continue\n",
    "        except NotADirectoryError:\n",
    "            continue\n",
    "            \n",
    "        temp.append({'id': i, 'article': article, 'tweets': tweets})\n",
    "            \n",
    "    return temp"
   ]
  },
  {
   "cell_type": "code",
   "execution_count": 3,
   "metadata": {},
   "outputs": [],
   "source": [
    "def gather_twitter_stats(tweets):\n",
    "    follower_counts = []\n",
    "    friends_counts = []\n",
    "    favorite_counts = []\n",
    "    retweet_counts = []\n",
    "    statuses_counts = []\n",
    "    verified_counter = 0\n",
    "    \n",
    "    for tweet in tweets:\n",
    "        follower_counts.append(tweet['user']['followers_count'])\n",
    "        friends_counts.append(tweet['user']['friends_count'])\n",
    "        favorite_counts.append(tweet['favorite_count'])\n",
    "        retweet_counts.append(tweet['retweet_count'])\n",
    "        statuses_counts.append(tweet['user']['statuses_count'])\n",
    "        if tweet['user']['verified']:\n",
    "            verified_counter += 1\n",
    "            \n",
    "    return {\n",
    "        'followers_mean': np.mean(follower_counts),\n",
    "        'followers_std': np.std(follower_counts),\n",
    "        'followers_median': np.median(follower_counts),\n",
    "        'followers_sum': np.sum(follower_counts),\n",
    "        'friends_mean': np.mean(friends_counts),\n",
    "        'friends_std': np.std(friends_counts),\n",
    "        'friends_median': np.median(friends_counts),\n",
    "        'friends_sum': np.sum(friends_counts),\n",
    "        'favorites_mean': np.mean(favorite_counts),\n",
    "        'favorites_std': np.std(favorite_counts),\n",
    "        'favorites_median': np.median(favorite_counts),\n",
    "        'favorites_sum': np.sum(favorite_counts),\n",
    "        'retweets_mean': np.mean(retweet_counts),\n",
    "        'retweets_std': np.std(retweet_counts),\n",
    "        'retweets_median': np.median(retweet_counts),\n",
    "        'retweets_sum': np.sum(retweet_counts),\n",
    "        'statuses_mean': np.mean(statuses_counts),\n",
    "        'statuses_std': np.mean(statuses_counts),\n",
    "        'statuses_median': np.median(statuses_counts),\n",
    "        'statuses_sum': np.sum(statuses_counts),\n",
    "        'verified_count': verified_counter\n",
    "    }"
   ]
  },
  {
   "cell_type": "code",
   "execution_count": 4,
   "metadata": {},
   "outputs": [],
   "source": [
    "def process_example(ex, label):\n",
    "    uid = ex['id']\n",
    "    article_text = ex['article']['text']\n",
    "    article_title = ex['article']['title']\n",
    "    article_source = ex['article']['source']\n",
    "    \n",
    "    temp = {'id': uid, 'title': article_title, 'text': article_text, 'source': article_source, 'label': label}\n",
    "    temp.update(gather_twitter_stats(ex['tweets']))\n",
    "    \n",
    "    return temp"
   ]
  },
  {
   "cell_type": "code",
   "execution_count": 5,
   "metadata": {},
   "outputs": [],
   "source": [
    "# pipeline to try to save my poor RAM\n",
    "pf_fake = load_data('politifact', 'fake')\n",
    "pf_fake = [process_example(x, 'fake') for x in pf_fake]\n",
    "\n",
    "pf_real = load_data('politifact', 'real')\n",
    "pf_real = [process_example(x, 'real') for x in pf_real]"
   ]
  },
  {
   "cell_type": "code",
   "execution_count": 6,
   "metadata": {},
   "outputs": [],
   "source": [
    "gc_fake = load_data('gossipcop', 'fake')\n",
    "gc_fake = [process_example(x, 'fake') for x in gc_fake]\n",
    "\n",
    "gc_real = load_data('gossipcop', 'real')\n",
    "gc_real = [process_example(x, 'real') for x in gc_real]"
   ]
  },
  {
   "cell_type": "code",
   "execution_count": 7,
   "metadata": {},
   "outputs": [],
   "source": [
    "df = pd.DataFrame(pf_fake)"
   ]
  },
  {
   "cell_type": "code",
   "execution_count": 13,
   "metadata": {},
   "outputs": [],
   "source": [
    "df = df.append(pf_real)\n",
    "df = df.append(gc_fake)\n",
    "df = df.append(gc_real)"
   ]
  },
  {
   "cell_type": "code",
   "execution_count": null,
   "metadata": {},
   "outputs": [],
   "source": [
    "df.reset_index(inplace=True, drop=True)"
   ]
  },
  {
   "cell_type": "code",
   "execution_count": 38,
   "metadata": {},
   "outputs": [],
   "source": [
    "df.to_csv('dataset.csv', index=False)"
   ]
  },
  {
   "cell_type": "code",
   "execution_count": 41,
   "metadata": {},
   "outputs": [
    {
     "data": {
      "text/plain": [
       "id                                                    politifact14238\n",
       "title               Cannibals Arrested in Florida Claim Eating Hum...\n",
       "text                Police in Vernal Heights, Florida, arrested 3-...\n",
       "source                                       http://dailybuzzlive.com\n",
       "label                                                            fake\n",
       "followers_mean                                                4551.84\n",
       "followers_std                                                 16865.7\n",
       "followers_median                                                  522\n",
       "followers_sum                                                 1488451\n",
       "friends_mean                                                  1937.78\n",
       "friends_std                                                   5225.07\n",
       "friends_median                                                    607\n",
       "friends_sum                                                    633653\n",
       "favorites_mean                                               0.422018\n",
       "favorites_std                                                 2.36679\n",
       "favorites_median                                                    0\n",
       "favorites_sum                                                     138\n",
       "retweets_mean                                                0.351682\n",
       "retweets_std                                                  1.76663\n",
       "retweets_median                                                     0\n",
       "retweets_sum                                                      115\n",
       "statuses_mean                                                 77230.2\n",
       "statuses_std                                                  77230.2\n",
       "statuses_median                                                 25246\n",
       "statuses_sum                                                 25254283\n",
       "verified_count                                                      4\n",
       "Name: 0, dtype: object"
      ]
     },
     "execution_count": 41,
     "metadata": {},
     "output_type": "execute_result"
    }
   ],
   "source": [
    "df.iloc[0]"
   ]
  }
 ],
 "metadata": {
  "kernelspec": {
   "display_name": "Python 3",
   "language": "python",
   "name": "python3"
  },
  "language_info": {
   "codemirror_mode": {
    "name": "ipython",
    "version": 3
   },
   "file_extension": ".py",
   "mimetype": "text/x-python",
   "name": "python",
   "nbconvert_exporter": "python",
   "pygments_lexer": "ipython3",
   "version": "3.7.4"
  }
 },
 "nbformat": 4,
 "nbformat_minor": 4
}
